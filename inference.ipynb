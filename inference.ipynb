{
 "cells": [
  {
   "cell_type": "code",
   "execution_count": 1,
   "id": "3721f27e-ef66-48a0-9f88-e0cdb2daef5a",
   "metadata": {
    "_kg_hide-input": true,
    "tags": []
   },
   "outputs": [],
   "source": [
    "import numpy as np\n",
    "import pandas as pd\n",
    "import pickle\n",
    "from datetime import datetime\n",
    "from matplotlib import pyplot as plt\n",
    "from sklearn.preprocessing import LabelEncoder\n",
    "from sklearn.model_selection import GroupKFold\n",
    "import dateutil.easter as easter"
   ]
  },
  {
   "cell_type": "code",
   "execution_count": 2,
   "id": "64b569bb-3ce9-4bc8-9272-39077e40ba55",
   "metadata": {
    "tags": []
   },
   "outputs": [],
   "source": [
    "import torch\n",
    "import torch.nn as nn\n",
    "from torch.autograd import Variable"
   ]
  },
  {
   "cell_type": "code",
   "execution_count": 3,
   "id": "fc633dbc-6ed4-43b7-8103-11d30a124f0c",
   "metadata": {},
   "outputs": [],
   "source": [
    "from torch.utils.data import Dataset, DataLoader"
   ]
  },
  {
   "cell_type": "code",
   "execution_count": 4,
   "id": "c1a195cd-01fb-46b0-8ebb-337998921a5f",
   "metadata": {},
   "outputs": [],
   "source": [
    "from accelerate import Accelerator\n",
    "import torch.optim as optim"
   ]
  },
  {
   "cell_type": "code",
   "execution_count": 5,
   "id": "4d987ace-539d-4da6-a4dd-06bd79cad8cc",
   "metadata": {},
   "outputs": [],
   "source": [
    "import time"
   ]
  },
  {
   "cell_type": "code",
   "execution_count": 6,
   "id": "183f241e-2f5c-4f78-ab5b-4b7492b27edb",
   "metadata": {},
   "outputs": [],
   "source": [
    "from sklearn.model_selection import train_test_split"
   ]
  },
  {
   "cell_type": "code",
   "execution_count": 7,
   "id": "e11713c0-f030-45e4-b3b8-c269146d2ba4",
   "metadata": {},
   "outputs": [],
   "source": [
    "device = torch.device(\"cuda:0\" if torch.cuda.is_available() else \"cpu\")"
   ]
  },
  {
   "cell_type": "code",
   "execution_count": 8,
   "id": "8d8a5cee-02fc-4244-b69a-eba12789baab",
   "metadata": {},
   "outputs": [],
   "source": [
    "from colorama import Fore, Back, Style\n",
    "r_ = Fore.RED\n",
    "b_ = Fore.BLUE\n",
    "c_ = Fore.CYAN\n",
    "g_ = Fore.GREEN\n",
    "y_ = Fore.YELLOW\n",
    "m_ = Fore.MAGENTA\n",
    "sr_ = Style.RESET_ALL"
   ]
  },
  {
   "cell_type": "code",
   "execution_count": 9,
   "id": "6d006bf3-cccf-42d2-a9c2-baf5cf6311f4",
   "metadata": {},
   "outputs": [
    {
     "data": {
      "text/plain": [
       "True"
      ]
     },
     "execution_count": 9,
     "metadata": {},
     "output_type": "execute_result"
    }
   ],
   "source": [
    "torch.cuda.is_available()"
   ]
  },
  {
   "cell_type": "code",
   "execution_count": 10,
   "id": "20f03e91-40fc-4101-81c2-52ecf0ab72a7",
   "metadata": {
    "tags": []
   },
   "outputs": [
    {
     "data": {
      "text/html": [
       "<div>\n",
       "<style scoped>\n",
       "    .dataframe tbody tr th:only-of-type {\n",
       "        vertical-align: middle;\n",
       "    }\n",
       "\n",
       "    .dataframe tbody tr th {\n",
       "        vertical-align: top;\n",
       "    }\n",
       "\n",
       "    .dataframe thead th {\n",
       "        text-align: right;\n",
       "    }\n",
       "</style>\n",
       "<table border=\"1\" class=\"dataframe\">\n",
       "  <thead>\n",
       "    <tr style=\"text-align: right;\">\n",
       "      <th></th>\n",
       "      <th>row_id</th>\n",
       "      <th>date</th>\n",
       "      <th>country</th>\n",
       "      <th>store</th>\n",
       "      <th>product</th>\n",
       "      <th>num_sold</th>\n",
       "    </tr>\n",
       "  </thead>\n",
       "  <tbody>\n",
       "    <tr>\n",
       "      <th>0</th>\n",
       "      <td>0</td>\n",
       "      <td>2015-01-01</td>\n",
       "      <td>Finland</td>\n",
       "      <td>KaggleMart</td>\n",
       "      <td>Kaggle Mug</td>\n",
       "      <td>329</td>\n",
       "    </tr>\n",
       "    <tr>\n",
       "      <th>1</th>\n",
       "      <td>1</td>\n",
       "      <td>2015-01-01</td>\n",
       "      <td>Finland</td>\n",
       "      <td>KaggleMart</td>\n",
       "      <td>Kaggle Hat</td>\n",
       "      <td>520</td>\n",
       "    </tr>\n",
       "  </tbody>\n",
       "</table>\n",
       "</div>"
      ],
      "text/plain": [
       "   row_id       date  country       store     product  num_sold\n",
       "0       0 2015-01-01  Finland  KaggleMart  Kaggle Mug       329\n",
       "1       1 2015-01-01  Finland  KaggleMart  Kaggle Hat       520"
      ]
     },
     "execution_count": 10,
     "metadata": {},
     "output_type": "execute_result"
    }
   ],
   "source": [
    "original_train_df = pd.read_csv('./data/train.csv', parse_dates=['date'])\n",
    "original_test_df = pd.read_csv('./data//test.csv', parse_dates=['date'])\n",
    "gdp_df = pd.read_csv('./data/GDP_data_2015_to_2019_Finland_Norway_Sweden.csv',\n",
    "                    index_col='year')\n",
    "\n",
    "original_train_df.head(2)"
   ]
  },
  {
   "cell_type": "code",
   "execution_count": 11,
   "id": "ecdd3006-8994-49d2-9e00-f633cddf9164",
   "metadata": {
    "tags": []
   },
   "outputs": [
    {
     "data": {
      "text/plain": [
       "array(['Kaggle Mug', 'Kaggle Hat', 'Kaggle Sticker'], dtype=object)"
      ]
     },
     "execution_count": 11,
     "metadata": {},
     "output_type": "execute_result"
    }
   ],
   "source": [
    "original_train_df['product'].unique()"
   ]
  },
  {
   "cell_type": "code",
   "execution_count": 12,
   "id": "14d4c49f-a01b-4262-bc6d-6be2851eb5ba",
   "metadata": {
    "tags": []
   },
   "outputs": [],
   "source": [
    "def smape_loss(y_true, y_pred):\n",
    "    \"\"\"SMAPE Loss\"\"\"\n",
    "    return np.abs(y_true - y_pred) / (y_true + np.abs(y_pred)) * 200"
   ]
  },
  {
   "cell_type": "code",
   "execution_count": 13,
   "id": "a71ae167-d57a-4eb7-bdee-9a87e0f254b6",
   "metadata": {
    "tags": []
   },
   "outputs": [
    {
     "data": {
      "text/html": [
       "<div>\n",
       "<style scoped>\n",
       "    .dataframe tbody tr th:only-of-type {\n",
       "        vertical-align: middle;\n",
       "    }\n",
       "\n",
       "    .dataframe tbody tr th {\n",
       "        vertical-align: top;\n",
       "    }\n",
       "\n",
       "    .dataframe thead th {\n",
       "        text-align: right;\n",
       "    }\n",
       "</style>\n",
       "<table border=\"1\" class=\"dataframe\">\n",
       "  <thead>\n",
       "    <tr style=\"text-align: right;\">\n",
       "      <th></th>\n",
       "      <th>GDP_Finland</th>\n",
       "      <th>GDP_Norway</th>\n",
       "      <th>GDP_Sweden</th>\n",
       "    </tr>\n",
       "    <tr>\n",
       "      <th>year</th>\n",
       "      <th></th>\n",
       "      <th></th>\n",
       "      <th></th>\n",
       "    </tr>\n",
       "  </thead>\n",
       "  <tbody>\n",
       "    <tr>\n",
       "      <th>2015</th>\n",
       "      <td>234.440</td>\n",
       "      <td>385.802</td>\n",
       "      <td>505.104</td>\n",
       "    </tr>\n",
       "    <tr>\n",
       "      <th>2016</th>\n",
       "      <td>240.608</td>\n",
       "      <td>368.827</td>\n",
       "      <td>515.655</td>\n",
       "    </tr>\n",
       "    <tr>\n",
       "      <th>2017</th>\n",
       "      <td>255.017</td>\n",
       "      <td>398.394</td>\n",
       "      <td>541.019</td>\n",
       "    </tr>\n",
       "    <tr>\n",
       "      <th>2018</th>\n",
       "      <td>275.580</td>\n",
       "      <td>437.000</td>\n",
       "      <td>555.455</td>\n",
       "    </tr>\n",
       "    <tr>\n",
       "      <th>2019</th>\n",
       "      <td>268.782</td>\n",
       "      <td>405.510</td>\n",
       "      <td>533.880</td>\n",
       "    </tr>\n",
       "  </tbody>\n",
       "</table>\n",
       "</div>"
      ],
      "text/plain": [
       "      GDP_Finland  GDP_Norway  GDP_Sweden\n",
       "year                                     \n",
       "2015      234.440     385.802     505.104\n",
       "2016      240.608     368.827     515.655\n",
       "2017      255.017     398.394     541.019\n",
       "2018      275.580     437.000     555.455\n",
       "2019      268.782     405.510     533.880"
      ]
     },
     "execution_count": 13,
     "metadata": {},
     "output_type": "execute_result"
    }
   ],
   "source": [
    "gdp_df"
   ]
  },
  {
   "cell_type": "markdown",
   "id": "e5f841f3-b26a-43fe-8698-c63ccb6ff60b",
   "metadata": {},
   "source": [
    "# Feature engineering"
   ]
  },
  {
   "cell_type": "code",
   "execution_count": 14,
   "id": "e073dada-1194-435c-84a3-ca8a308da14e",
   "metadata": {
    "tags": []
   },
   "outputs": [],
   "source": [
    "# Feature engineering\n",
    "def get_gdp(row):\n",
    "    \"\"\"Return the GDP based on row.country and row.date.year\"\"\"\n",
    "    country = 'GDP_' + row.country\n",
    "    return gdp_df.loc[row.date.year, country]\n",
    "\n",
    "le_dict = {feature: LabelEncoder().fit(original_train_df[feature]) for feature in ['country', 'product', 'store']}\n",
    "\n",
    "def engineer(df):\n",
    "    \"\"\"Return a new dataframe with the engineered features\"\"\"\n",
    "    \n",
    "    new_df = pd.DataFrame({'gdp': df.apply(get_gdp, axis=1),\n",
    "                           'dayofyear': df.date.dt.dayofyear,\n",
    "                           'wd4': df.date.dt.weekday == 4, # Friday\n",
    "                           'wd56': df.date.dt.weekday >= 5, # Saturday and Sunday\n",
    "                          })\n",
    "\n",
    "    new_df.loc[(df.date.dt.year != 2016) & (df.date.dt.month >=3), 'dayofyear'] += 1 # fix for leap years\n",
    "    \n",
    "    for feature in ['country', 'product', 'store']:\n",
    "        new_df[feature] = le_dict[feature].transform(df[feature])\n",
    "        \n",
    "    # Easter\n",
    "    easter_date = df.date.apply(lambda date: pd.Timestamp(easter.easter(date.year)))\n",
    "    new_df['days_from_easter'] = (df.date - easter_date).dt.days.clip(-5, 65)\n",
    "    \n",
    "    # Last Sunday of May (Mother's Day)\n",
    "    sun_may_date = df.date.dt.year.map({2015: pd.Timestamp(('2015-5-31')),\n",
    "                                         2016: pd.Timestamp(('2016-5-29')),\n",
    "                                         2017: pd.Timestamp(('2017-5-28')),\n",
    "                                         2018: pd.Timestamp(('2018-5-27')),\n",
    "                                         2019: pd.Timestamp(('2019-5-26'))})\n",
    "    #new_df['days_from_sun_may'] = (df.date - sun_may_date).dt.days.clip(-1, 9)\n",
    "    \n",
    "    # Last Wednesday of June\n",
    "    wed_june_date = df.date.dt.year.map({2015: pd.Timestamp(('2015-06-24')),\n",
    "                                         2016: pd.Timestamp(('2016-06-29')),\n",
    "                                         2017: pd.Timestamp(('2017-06-28')),\n",
    "                                         2018: pd.Timestamp(('2018-06-27')),\n",
    "                                         2019: pd.Timestamp(('2019-06-26'))})\n",
    "    new_df['days_from_wed_jun'] = (df.date - wed_june_date).dt.days.clip(-5, 5)\n",
    "    \n",
    "    # First Sunday of November (second Sunday is Father's Day)\n",
    "    sun_nov_date = df.date.dt.year.map({2015: pd.Timestamp(('2015-11-1')),\n",
    "                                         2016: pd.Timestamp(('2016-11-6')),\n",
    "                                         2017: pd.Timestamp(('2017-11-5')),\n",
    "                                         2018: pd.Timestamp(('2018-11-4')),\n",
    "                                         2019: pd.Timestamp(('2019-11-3'))})\n",
    "    new_df['days_from_sun_nov'] = (df.date - sun_nov_date).dt.days.clip(-1, 9)\n",
    "    \n",
    "    return new_df\n",
    "\n",
    "train_df = engineer(original_train_df)\n",
    "train_df['date'] = original_train_df.date # used in GroupKFold\n",
    "train_df['num_sold'] = original_train_df.num_sold.astype(np.float32)\n",
    "train_df['target'] = np.log(train_df['num_sold'] / train_df['gdp'])\n",
    "test_df = engineer(original_test_df)\n",
    "test_df['date'] = original_test_df.date # used in GroupKFold"
   ]
  },
  {
   "cell_type": "code",
   "execution_count": 15,
   "id": "094c6d05-1ade-4499-aa70-21a26742f1d8",
   "metadata": {
    "tags": []
   },
   "outputs": [
    {
     "data": {
      "text/html": [
       "<div>\n",
       "<style scoped>\n",
       "    .dataframe tbody tr th:only-of-type {\n",
       "        vertical-align: middle;\n",
       "    }\n",
       "\n",
       "    .dataframe tbody tr th {\n",
       "        vertical-align: top;\n",
       "    }\n",
       "\n",
       "    .dataframe thead th {\n",
       "        text-align: right;\n",
       "    }\n",
       "</style>\n",
       "<table border=\"1\" class=\"dataframe\">\n",
       "  <thead>\n",
       "    <tr style=\"text-align: right;\">\n",
       "      <th></th>\n",
       "      <th>gdp</th>\n",
       "      <th>dayofyear</th>\n",
       "      <th>wd4</th>\n",
       "      <th>wd56</th>\n",
       "      <th>country</th>\n",
       "      <th>product</th>\n",
       "      <th>store</th>\n",
       "      <th>days_from_easter</th>\n",
       "      <th>days_from_wed_jun</th>\n",
       "      <th>days_from_sun_nov</th>\n",
       "      <th>date</th>\n",
       "    </tr>\n",
       "  </thead>\n",
       "  <tbody>\n",
       "    <tr>\n",
       "      <th>0</th>\n",
       "      <td>268.782</td>\n",
       "      <td>1</td>\n",
       "      <td>False</td>\n",
       "      <td>False</td>\n",
       "      <td>0</td>\n",
       "      <td>1</td>\n",
       "      <td>0</td>\n",
       "      <td>-5</td>\n",
       "      <td>-5</td>\n",
       "      <td>-1</td>\n",
       "      <td>2019-01-01</td>\n",
       "    </tr>\n",
       "    <tr>\n",
       "      <th>1</th>\n",
       "      <td>268.782</td>\n",
       "      <td>1</td>\n",
       "      <td>False</td>\n",
       "      <td>False</td>\n",
       "      <td>0</td>\n",
       "      <td>0</td>\n",
       "      <td>0</td>\n",
       "      <td>-5</td>\n",
       "      <td>-5</td>\n",
       "      <td>-1</td>\n",
       "      <td>2019-01-01</td>\n",
       "    </tr>\n",
       "    <tr>\n",
       "      <th>2</th>\n",
       "      <td>268.782</td>\n",
       "      <td>1</td>\n",
       "      <td>False</td>\n",
       "      <td>False</td>\n",
       "      <td>0</td>\n",
       "      <td>2</td>\n",
       "      <td>0</td>\n",
       "      <td>-5</td>\n",
       "      <td>-5</td>\n",
       "      <td>-1</td>\n",
       "      <td>2019-01-01</td>\n",
       "    </tr>\n",
       "    <tr>\n",
       "      <th>3</th>\n",
       "      <td>268.782</td>\n",
       "      <td>1</td>\n",
       "      <td>False</td>\n",
       "      <td>False</td>\n",
       "      <td>0</td>\n",
       "      <td>1</td>\n",
       "      <td>1</td>\n",
       "      <td>-5</td>\n",
       "      <td>-5</td>\n",
       "      <td>-1</td>\n",
       "      <td>2019-01-01</td>\n",
       "    </tr>\n",
       "    <tr>\n",
       "      <th>4</th>\n",
       "      <td>268.782</td>\n",
       "      <td>1</td>\n",
       "      <td>False</td>\n",
       "      <td>False</td>\n",
       "      <td>0</td>\n",
       "      <td>0</td>\n",
       "      <td>1</td>\n",
       "      <td>-5</td>\n",
       "      <td>-5</td>\n",
       "      <td>-1</td>\n",
       "      <td>2019-01-01</td>\n",
       "    </tr>\n",
       "    <tr>\n",
       "      <th>...</th>\n",
       "      <td>...</td>\n",
       "      <td>...</td>\n",
       "      <td>...</td>\n",
       "      <td>...</td>\n",
       "      <td>...</td>\n",
       "      <td>...</td>\n",
       "      <td>...</td>\n",
       "      <td>...</td>\n",
       "      <td>...</td>\n",
       "      <td>...</td>\n",
       "      <td>...</td>\n",
       "    </tr>\n",
       "    <tr>\n",
       "      <th>6565</th>\n",
       "      <td>533.880</td>\n",
       "      <td>366</td>\n",
       "      <td>False</td>\n",
       "      <td>False</td>\n",
       "      <td>2</td>\n",
       "      <td>0</td>\n",
       "      <td>0</td>\n",
       "      <td>65</td>\n",
       "      <td>5</td>\n",
       "      <td>9</td>\n",
       "      <td>2019-12-31</td>\n",
       "    </tr>\n",
       "    <tr>\n",
       "      <th>6566</th>\n",
       "      <td>533.880</td>\n",
       "      <td>366</td>\n",
       "      <td>False</td>\n",
       "      <td>False</td>\n",
       "      <td>2</td>\n",
       "      <td>2</td>\n",
       "      <td>0</td>\n",
       "      <td>65</td>\n",
       "      <td>5</td>\n",
       "      <td>9</td>\n",
       "      <td>2019-12-31</td>\n",
       "    </tr>\n",
       "    <tr>\n",
       "      <th>6567</th>\n",
       "      <td>533.880</td>\n",
       "      <td>366</td>\n",
       "      <td>False</td>\n",
       "      <td>False</td>\n",
       "      <td>2</td>\n",
       "      <td>1</td>\n",
       "      <td>1</td>\n",
       "      <td>65</td>\n",
       "      <td>5</td>\n",
       "      <td>9</td>\n",
       "      <td>2019-12-31</td>\n",
       "    </tr>\n",
       "    <tr>\n",
       "      <th>6568</th>\n",
       "      <td>533.880</td>\n",
       "      <td>366</td>\n",
       "      <td>False</td>\n",
       "      <td>False</td>\n",
       "      <td>2</td>\n",
       "      <td>0</td>\n",
       "      <td>1</td>\n",
       "      <td>65</td>\n",
       "      <td>5</td>\n",
       "      <td>9</td>\n",
       "      <td>2019-12-31</td>\n",
       "    </tr>\n",
       "    <tr>\n",
       "      <th>6569</th>\n",
       "      <td>533.880</td>\n",
       "      <td>366</td>\n",
       "      <td>False</td>\n",
       "      <td>False</td>\n",
       "      <td>2</td>\n",
       "      <td>2</td>\n",
       "      <td>1</td>\n",
       "      <td>65</td>\n",
       "      <td>5</td>\n",
       "      <td>9</td>\n",
       "      <td>2019-12-31</td>\n",
       "    </tr>\n",
       "  </tbody>\n",
       "</table>\n",
       "<p>6570 rows × 11 columns</p>\n",
       "</div>"
      ],
      "text/plain": [
       "          gdp  dayofyear    wd4   wd56  country  product  store  \\\n",
       "0     268.782          1  False  False        0        1      0   \n",
       "1     268.782          1  False  False        0        0      0   \n",
       "2     268.782          1  False  False        0        2      0   \n",
       "3     268.782          1  False  False        0        1      1   \n",
       "4     268.782          1  False  False        0        0      1   \n",
       "...       ...        ...    ...    ...      ...      ...    ...   \n",
       "6565  533.880        366  False  False        2        0      0   \n",
       "6566  533.880        366  False  False        2        2      0   \n",
       "6567  533.880        366  False  False        2        1      1   \n",
       "6568  533.880        366  False  False        2        0      1   \n",
       "6569  533.880        366  False  False        2        2      1   \n",
       "\n",
       "      days_from_easter  days_from_wed_jun  days_from_sun_nov       date  \n",
       "0                   -5                 -5                 -1 2019-01-01  \n",
       "1                   -5                 -5                 -1 2019-01-01  \n",
       "2                   -5                 -5                 -1 2019-01-01  \n",
       "3                   -5                 -5                 -1 2019-01-01  \n",
       "4                   -5                 -5                 -1 2019-01-01  \n",
       "...                ...                ...                ...        ...  \n",
       "6565                65                  5                  9 2019-12-31  \n",
       "6566                65                  5                  9 2019-12-31  \n",
       "6567                65                  5                  9 2019-12-31  \n",
       "6568                65                  5                  9 2019-12-31  \n",
       "6569                65                  5                  9 2019-12-31  \n",
       "\n",
       "[6570 rows x 11 columns]"
      ]
     },
     "execution_count": 15,
     "metadata": {},
     "output_type": "execute_result"
    }
   ],
   "source": [
    "test_df"
   ]
  },
  {
   "cell_type": "code",
   "execution_count": 16,
   "id": "75dfa911-dfa3-4f76-8e53-f078d8b856cb",
   "metadata": {
    "tags": []
   },
   "outputs": [],
   "source": [
    "in_features = ['dayofyear', 'days_from_easter', 'days_from_sun_nov', 'days_from_wed_jun', 'wd4', 'wd56','country','store','product', 'target']"
   ]
  },
  {
   "cell_type": "code",
   "execution_count": 17,
   "id": "4c7562a5-4a3c-41df-bc0e-c361483a0ae3",
   "metadata": {
    "tags": []
   },
   "outputs": [
    {
     "data": {
      "text/html": [
       "<div>\n",
       "<style scoped>\n",
       "    .dataframe tbody tr th:only-of-type {\n",
       "        vertical-align: middle;\n",
       "    }\n",
       "\n",
       "    .dataframe tbody tr th {\n",
       "        vertical-align: top;\n",
       "    }\n",
       "\n",
       "    .dataframe thead th {\n",
       "        text-align: right;\n",
       "    }\n",
       "</style>\n",
       "<table border=\"1\" class=\"dataframe\">\n",
       "  <thead>\n",
       "    <tr style=\"text-align: right;\">\n",
       "      <th></th>\n",
       "      <th>gdp</th>\n",
       "      <th>dayofyear</th>\n",
       "      <th>wd4</th>\n",
       "      <th>wd56</th>\n",
       "      <th>country</th>\n",
       "      <th>product</th>\n",
       "      <th>store</th>\n",
       "      <th>days_from_easter</th>\n",
       "      <th>days_from_wed_jun</th>\n",
       "      <th>days_from_sun_nov</th>\n",
       "      <th>date</th>\n",
       "      <th>num_sold</th>\n",
       "      <th>target</th>\n",
       "    </tr>\n",
       "  </thead>\n",
       "  <tbody>\n",
       "    <tr>\n",
       "      <th>0</th>\n",
       "      <td>234.440</td>\n",
       "      <td>1</td>\n",
       "      <td>False</td>\n",
       "      <td>False</td>\n",
       "      <td>0</td>\n",
       "      <td>1</td>\n",
       "      <td>0</td>\n",
       "      <td>-5</td>\n",
       "      <td>-5</td>\n",
       "      <td>-1</td>\n",
       "      <td>2015-01-01</td>\n",
       "      <td>329.0</td>\n",
       "      <td>0.338858</td>\n",
       "    </tr>\n",
       "    <tr>\n",
       "      <th>1</th>\n",
       "      <td>234.440</td>\n",
       "      <td>1</td>\n",
       "      <td>False</td>\n",
       "      <td>False</td>\n",
       "      <td>0</td>\n",
       "      <td>0</td>\n",
       "      <td>0</td>\n",
       "      <td>-5</td>\n",
       "      <td>-5</td>\n",
       "      <td>-1</td>\n",
       "      <td>2015-01-01</td>\n",
       "      <td>520.0</td>\n",
       "      <td>0.796629</td>\n",
       "    </tr>\n",
       "    <tr>\n",
       "      <th>2</th>\n",
       "      <td>234.440</td>\n",
       "      <td>1</td>\n",
       "      <td>False</td>\n",
       "      <td>False</td>\n",
       "      <td>0</td>\n",
       "      <td>2</td>\n",
       "      <td>0</td>\n",
       "      <td>-5</td>\n",
       "      <td>-5</td>\n",
       "      <td>-1</td>\n",
       "      <td>2015-01-01</td>\n",
       "      <td>146.0</td>\n",
       "      <td>-0.473593</td>\n",
       "    </tr>\n",
       "    <tr>\n",
       "      <th>3</th>\n",
       "      <td>234.440</td>\n",
       "      <td>1</td>\n",
       "      <td>False</td>\n",
       "      <td>False</td>\n",
       "      <td>0</td>\n",
       "      <td>1</td>\n",
       "      <td>1</td>\n",
       "      <td>-5</td>\n",
       "      <td>-5</td>\n",
       "      <td>-1</td>\n",
       "      <td>2015-01-01</td>\n",
       "      <td>572.0</td>\n",
       "      <td>0.891939</td>\n",
       "    </tr>\n",
       "    <tr>\n",
       "      <th>4</th>\n",
       "      <td>234.440</td>\n",
       "      <td>1</td>\n",
       "      <td>False</td>\n",
       "      <td>False</td>\n",
       "      <td>0</td>\n",
       "      <td>0</td>\n",
       "      <td>1</td>\n",
       "      <td>-5</td>\n",
       "      <td>-5</td>\n",
       "      <td>-1</td>\n",
       "      <td>2015-01-01</td>\n",
       "      <td>911.0</td>\n",
       "      <td>1.357343</td>\n",
       "    </tr>\n",
       "    <tr>\n",
       "      <th>...</th>\n",
       "      <td>...</td>\n",
       "      <td>...</td>\n",
       "      <td>...</td>\n",
       "      <td>...</td>\n",
       "      <td>...</td>\n",
       "      <td>...</td>\n",
       "      <td>...</td>\n",
       "      <td>...</td>\n",
       "      <td>...</td>\n",
       "      <td>...</td>\n",
       "      <td>...</td>\n",
       "      <td>...</td>\n",
       "      <td>...</td>\n",
       "    </tr>\n",
       "    <tr>\n",
       "      <th>26293</th>\n",
       "      <td>555.455</td>\n",
       "      <td>366</td>\n",
       "      <td>False</td>\n",
       "      <td>False</td>\n",
       "      <td>2</td>\n",
       "      <td>0</td>\n",
       "      <td>0</td>\n",
       "      <td>65</td>\n",
       "      <td>5</td>\n",
       "      <td>9</td>\n",
       "      <td>2018-12-31</td>\n",
       "      <td>823.0</td>\n",
       "      <td>0.393169</td>\n",
       "    </tr>\n",
       "    <tr>\n",
       "      <th>26294</th>\n",
       "      <td>555.455</td>\n",
       "      <td>366</td>\n",
       "      <td>False</td>\n",
       "      <td>False</td>\n",
       "      <td>2</td>\n",
       "      <td>2</td>\n",
       "      <td>0</td>\n",
       "      <td>65</td>\n",
       "      <td>5</td>\n",
       "      <td>9</td>\n",
       "      <td>2018-12-31</td>\n",
       "      <td>250.0</td>\n",
       "      <td>-0.798327</td>\n",
       "    </tr>\n",
       "    <tr>\n",
       "      <th>26295</th>\n",
       "      <td>555.455</td>\n",
       "      <td>366</td>\n",
       "      <td>False</td>\n",
       "      <td>False</td>\n",
       "      <td>2</td>\n",
       "      <td>1</td>\n",
       "      <td>1</td>\n",
       "      <td>65</td>\n",
       "      <td>5</td>\n",
       "      <td>9</td>\n",
       "      <td>2018-12-31</td>\n",
       "      <td>1004.0</td>\n",
       "      <td>0.591960</td>\n",
       "    </tr>\n",
       "    <tr>\n",
       "      <th>26296</th>\n",
       "      <td>555.455</td>\n",
       "      <td>366</td>\n",
       "      <td>False</td>\n",
       "      <td>False</td>\n",
       "      <td>2</td>\n",
       "      <td>0</td>\n",
       "      <td>1</td>\n",
       "      <td>65</td>\n",
       "      <td>5</td>\n",
       "      <td>9</td>\n",
       "      <td>2018-12-31</td>\n",
       "      <td>1441.0</td>\n",
       "      <td>0.953305</td>\n",
       "    </tr>\n",
       "    <tr>\n",
       "      <th>26297</th>\n",
       "      <td>555.455</td>\n",
       "      <td>366</td>\n",
       "      <td>False</td>\n",
       "      <td>False</td>\n",
       "      <td>2</td>\n",
       "      <td>2</td>\n",
       "      <td>1</td>\n",
       "      <td>65</td>\n",
       "      <td>5</td>\n",
       "      <td>9</td>\n",
       "      <td>2018-12-31</td>\n",
       "      <td>388.0</td>\n",
       "      <td>-0.358782</td>\n",
       "    </tr>\n",
       "  </tbody>\n",
       "</table>\n",
       "<p>26298 rows × 13 columns</p>\n",
       "</div>"
      ],
      "text/plain": [
       "           gdp  dayofyear    wd4   wd56  country  product  store  \\\n",
       "0      234.440          1  False  False        0        1      0   \n",
       "1      234.440          1  False  False        0        0      0   \n",
       "2      234.440          1  False  False        0        2      0   \n",
       "3      234.440          1  False  False        0        1      1   \n",
       "4      234.440          1  False  False        0        0      1   \n",
       "...        ...        ...    ...    ...      ...      ...    ...   \n",
       "26293  555.455        366  False  False        2        0      0   \n",
       "26294  555.455        366  False  False        2        2      0   \n",
       "26295  555.455        366  False  False        2        1      1   \n",
       "26296  555.455        366  False  False        2        0      1   \n",
       "26297  555.455        366  False  False        2        2      1   \n",
       "\n",
       "       days_from_easter  days_from_wed_jun  days_from_sun_nov       date  \\\n",
       "0                    -5                 -5                 -1 2015-01-01   \n",
       "1                    -5                 -5                 -1 2015-01-01   \n",
       "2                    -5                 -5                 -1 2015-01-01   \n",
       "3                    -5                 -5                 -1 2015-01-01   \n",
       "4                    -5                 -5                 -1 2015-01-01   \n",
       "...                 ...                ...                ...        ...   \n",
       "26293                65                  5                  9 2018-12-31   \n",
       "26294                65                  5                  9 2018-12-31   \n",
       "26295                65                  5                  9 2018-12-31   \n",
       "26296                65                  5                  9 2018-12-31   \n",
       "26297                65                  5                  9 2018-12-31   \n",
       "\n",
       "       num_sold    target  \n",
       "0         329.0  0.338858  \n",
       "1         520.0  0.796629  \n",
       "2         146.0 -0.473593  \n",
       "3         572.0  0.891939  \n",
       "4         911.0  1.357343  \n",
       "...         ...       ...  \n",
       "26293     823.0  0.393169  \n",
       "26294     250.0 -0.798327  \n",
       "26295    1004.0  0.591960  \n",
       "26296    1441.0  0.953305  \n",
       "26297     388.0 -0.358782  \n",
       "\n",
       "[26298 rows x 13 columns]"
      ]
     },
     "execution_count": 17,
     "metadata": {},
     "output_type": "execute_result"
    }
   ],
   "source": [
    "train_df"
   ]
  },
  {
   "cell_type": "code",
   "execution_count": 18,
   "id": "3e25e274-528d-4921-9220-100729e0d918",
   "metadata": {
    "tags": []
   },
   "outputs": [],
   "source": [
    "grp_df_train = train_df.groupby('date', as_index=False).agg(target = ('target', list),\n",
    "                             dayofyear =('dayofyear', list),\n",
    "                             wd4 =('wd4', list),\n",
    "                             wd56 = ('wd56', list),\n",
    "                             country =('country', list),\n",
    "                             product =('product', list),\n",
    "                             store =('store', list),\n",
    "                             days_from_easter =('days_from_easter', list),\n",
    "                             days_from_wed_jun =('days_from_wed_jun', list),\n",
    "                             days_from_sun_nov =('days_from_sun_nov', list),\n",
    "                            )\n",
    "\n",
    "train_df2 = pd.DataFrame({'date': grp_df_train['date'].values,\n",
    "              'features':grp_df_train.apply(lambda x: np.array([np.array(x[f]) for f in in_features]), axis=1)  \n",
    "})"
   ]
  },
  {
   "cell_type": "code",
   "execution_count": 19,
   "id": "7e694b2d-7c71-4575-b5a7-32ca5b53ee1a",
   "metadata": {
    "tags": []
   },
   "outputs": [],
   "source": [
    "grp_df_test = test_df.groupby('date', as_index=False).agg(\n",
    "                             dayofyear =('dayofyear', list),\n",
    "                             wd4 =('wd4', list),\n",
    "                             wd56 = ('wd56', list),\n",
    "                             country =('country', list),\n",
    "                             product =('product', list),\n",
    "                             store =('store', list),\n",
    "                             days_from_easter =('days_from_easter', list),\n",
    "                             days_from_wed_jun =('days_from_wed_jun', list),\n",
    "                             days_from_sun_nov =('days_from_sun_nov', list),\n",
    "                            )\n",
    "\n",
    "test_df2 = pd.DataFrame({'date': grp_df_test['date'].values,\n",
    "              'features':grp_df_test.apply(lambda x: np.array([np.array(x[f]) for f in in_features if f!='target']), axis=1)  \n",
    "})"
   ]
  },
  {
   "cell_type": "markdown",
   "id": "c3e33567-cf19-4b83-afba-1b7d00f1a8e5",
   "metadata": {},
   "source": [
    "#### Config #####"
   ]
  },
  {
   "cell_type": "code",
   "execution_count": 20,
   "id": "13e1fbcb-8902-4080-b5c7-eaeac8aa5c90",
   "metadata": {},
   "outputs": [],
   "source": [
    "config = {\n",
    "    'seq_length' : 60,\n",
    "    'num_epochs' : 300,\n",
    "    'lr' : 0.001,\n",
    "    'input_size' : 180,\n",
    "    'hidden_size' : 360,\n",
    "    'num_layers' : 2,\n",
    "    'num_classes' :18, ## This is  output dimension\n",
    "    'train_shuffle': True,\n",
    "    'val_shuffle': True,\n",
    "    'batch_size' : 30,\n",
    "    'best_model_name' : 'lstm_tsp_mlp_head_drpOut_1.bin',\n",
    "    'bidirectional' : False,\n",
    "    'only_last_hidden': False\n",
    "}\n",
    "# config_lr = {'T_max':20,\n",
    "#              'eta_min':0\n",
    "#             }"
   ]
  },
  {
   "cell_type": "markdown",
   "id": "dc97b728-e4e6-4f5f-b3f3-6be553df2f52",
   "metadata": {},
   "source": [
    "#### Make sequences ####"
   ]
  },
  {
   "cell_type": "code",
   "execution_count": 21,
   "id": "4c9e050b-2158-4ddf-ae56-c32a95ed7bf1",
   "metadata": {},
   "outputs": [],
   "source": [
    "def sliding_windows(data, seq_length):\n",
    "        x = []\n",
    "        y = []\n",
    "\n",
    "        for i in range(len(data)-seq_length-1):\n",
    "            _x = data[i:(i+seq_length),:].transpose(0,2,1).reshape(seq_length,-1)\n",
    "            _y = data[i+seq_length,-1]\n",
    "            x.append(_x)\n",
    "            y.append(_y)\n",
    "\n",
    "        return np.array(x),np.array(y)\n",
    "    \n",
    "def make_sequences(df,seq_length):\n",
    "    data = np.rollaxis(np.dstack(df['features'].values.tolist()),-1)\n",
    "    print('Data Shape', data.shape)\n",
    "    \n",
    "    x, y = sliding_windows(data, seq_length)\n",
    "\n",
    "    print('X,y shapes', x.shape,y.shape)\n",
    "    \n",
    "    return x,y\n",
    "    "
   ]
  },
  {
   "cell_type": "code",
   "execution_count": 22,
   "id": "99de5fb1-fe2d-4ec9-85ce-0f528813e20b",
   "metadata": {},
   "outputs": [
    {
     "name": "stdout",
     "output_type": "stream",
     "text": [
      "Data Shape (1461, 10, 18)\n",
      "X,y shapes (1400, 60, 180) (1400, 18)\n"
     ]
    }
   ],
   "source": [
    "X,y = make_sequences(train_df2,config['seq_length'])"
   ]
  },
  {
   "cell_type": "code",
   "execution_count": null,
   "id": "97d28adf-0808-4a0d-bdb0-2dcd5f459c30",
   "metadata": {},
   "outputs": [],
   "source": []
  },
  {
   "cell_type": "markdown",
   "id": "6d32cea4-a40d-4fa9-838f-5ab54af59772",
   "metadata": {},
   "source": [
    "## Model ##"
   ]
  },
  {
   "cell_type": "code",
   "execution_count": 23,
   "id": "b7af91e9-a557-4ef5-8c0f-472b99c50ee8",
   "metadata": {},
   "outputs": [],
   "source": [
    "num_epochs = config['num_epochs']\n",
    "lr = config['lr']\n",
    "input_size = config['input_size']\n",
    "hidden_size = config['hidden_size']\n",
    "num_layers = config['num_layers']\n",
    "num_classes = config['num_classes']\n",
    "seq_length = config['seq_length']\n",
    "bidirectional = config['bidirectional']\n",
    "only_last_hidden = config['only_last_hidden']"
   ]
  },
  {
   "cell_type": "code",
   "execution_count": 24,
   "id": "5b10235a-83ea-47d0-a414-3d8f8ff8a303",
   "metadata": {
    "tags": []
   },
   "outputs": [],
   "source": [
    "class LSTMTpsModel(nn.Module):\n",
    "\n",
    "    def __init__(self, num_classes, input_size, hidden_size, num_layers,seq_length):\n",
    "        super(LSTMTpsModel, self).__init__()\n",
    "        \n",
    "        self.num_classes = num_classes\n",
    "        self.num_layers = num_layers\n",
    "        self.input_size = input_size\n",
    "        self.hidden_size = hidden_size\n",
    "        self.seq_length = seq_length\n",
    "        \n",
    "        self.lstm = nn.LSTM(input_size=input_size, hidden_size=hidden_size,\n",
    "                            num_layers=num_layers, batch_first=True,bidirectional=bidirectional)\n",
    "        \n",
    "        if bidirectional:\n",
    "            m=2\n",
    "        else:\n",
    "            m=1\n",
    "        \n",
    "        if only_last_hidden:\n",
    "            input_dim = hidden_size*m\n",
    "        else:\n",
    "            input_dim = self.seq_length*hidden_size*m\n",
    "        \n",
    "        # self.fc = nn.Linear(input_dim, self.num_classes)\n",
    "        \n",
    "        self.fc = nn.Sequential(nn.Linear(input_dim, input_dim//8),\n",
    "                                # nn.BatchNorm1d(num_features=input_dim//8),\n",
    "                                nn.Dropout(0.2),\n",
    "                                nn.ReLU(),\n",
    "                                \n",
    "                                nn.Linear(input_dim//8, input_dim//16),\n",
    "                                # nn.BatchNorm1d(num_features=input_dim//16),\n",
    "                                nn.Dropout(0.2),\n",
    "                                nn.ReLU(),\n",
    "                                \n",
    "                                nn.Linear(input_dim//16, input_dim//32),\n",
    "                                # nn.BatchNorm1d(num_features=input_dim//32),\n",
    "                                nn.Dropout(0.2),\n",
    "                                nn.ReLU(),\n",
    "                                nn.Linear(input_dim//32, self.num_classes)\n",
    "                                )\n",
    "\n",
    "    def forward(self, x):\n",
    "        # Propagate input through LSTM\n",
    "        h_out, (_, _) = self.lstm(x)\n",
    "        if only_last_hidden:\n",
    "            h_out = h_out[:,-1:,:]\n",
    "        h_out = h_out.flatten(start_dim=1)\n",
    "        \n",
    "        out = self.fc(h_out)\n",
    "        return out"
   ]
  },
  {
   "cell_type": "code",
   "execution_count": null,
   "id": "f0bdc04b-998e-41ea-ada4-62b33e7e8076",
   "metadata": {},
   "outputs": [],
   "source": []
  },
  {
   "cell_type": "code",
   "execution_count": 25,
   "id": "58e4e511-7721-4c91-baa0-2369d26ccc08",
   "metadata": {},
   "outputs": [],
   "source": [
    "model = LSTMTpsModel(num_classes, input_size, hidden_size, num_layers,seq_length)"
   ]
  },
  {
   "cell_type": "code",
   "execution_count": 26,
   "id": "c9034712-4d7b-4046-ad60-f0d83ab5c258",
   "metadata": {},
   "outputs": [
    {
     "data": {
      "text/plain": [
       "LSTMTpsModel(\n",
       "  (lstm): LSTM(180, 360, num_layers=2, batch_first=True)\n",
       "  (fc): Sequential(\n",
       "    (0): Linear(in_features=21600, out_features=2700, bias=True)\n",
       "    (1): Dropout(p=0.2, inplace=False)\n",
       "    (2): ReLU()\n",
       "    (3): Linear(in_features=2700, out_features=1350, bias=True)\n",
       "    (4): Dropout(p=0.2, inplace=False)\n",
       "    (5): ReLU()\n",
       "    (6): Linear(in_features=1350, out_features=675, bias=True)\n",
       "    (7): Dropout(p=0.2, inplace=False)\n",
       "    (8): ReLU()\n",
       "    (9): Linear(in_features=675, out_features=18, bias=True)\n",
       "  )\n",
       ")"
      ]
     },
     "execution_count": 26,
     "metadata": {},
     "output_type": "execute_result"
    }
   ],
   "source": [
    "model.load_state_dict(torch.load(config['best_model_name']))\n",
    "model.eval()"
   ]
  },
  {
   "cell_type": "code",
   "execution_count": null,
   "id": "df4cd8cf-4f0f-400a-8840-4b717accbc35",
   "metadata": {},
   "outputs": [],
   "source": []
  },
  {
   "cell_type": "markdown",
   "id": "ae8692ef-4e0f-4703-8555-12f6e9f73a99",
   "metadata": {},
   "source": [
    "##### Predictions #####"
   ]
  },
  {
   "cell_type": "code",
   "execution_count": 27,
   "id": "904f8429-4b57-485e-95b9-8247af66af2e",
   "metadata": {},
   "outputs": [],
   "source": [
    "data_train = np.rollaxis(np.dstack(train_df2['features'].values.tolist()),-1).transpose(0,2,1)"
   ]
  },
  {
   "cell_type": "code",
   "execution_count": 28,
   "id": "6036f3e3-cc0f-44c7-a9dc-4485ac72b914",
   "metadata": {},
   "outputs": [],
   "source": [
    "data_test = np.rollaxis(np.dstack(test_df2['features'].values.tolist()),-1).transpose(0,2,1)"
   ]
  },
  {
   "cell_type": "code",
   "execution_count": 29,
   "id": "7bf0f818-b50c-49c2-960a-ca3811a7201e",
   "metadata": {},
   "outputs": [
    {
     "name": "stdout",
     "output_type": "stream",
     "text": [
      "(1461, 18, 10) (365, 18, 9)\n"
     ]
    }
   ],
   "source": [
    "print(data_train.shape,data_test.shape)"
   ]
  },
  {
   "cell_type": "code",
   "execution_count": 30,
   "id": "37b649b9-c38c-4c86-ae36-3c6fc3f5e7b6",
   "metadata": {},
   "outputs": [],
   "source": [
    "last_years_data = data_train[-seq_length:,:,:]"
   ]
  },
  {
   "cell_type": "code",
   "execution_count": 31,
   "id": "535a4150-3099-4a49-8119-2f322383781c",
   "metadata": {},
   "outputs": [
    {
     "data": {
      "text/plain": [
       "(60, 18, 10)"
      ]
     },
     "execution_count": 31,
     "metadata": {},
     "output_type": "execute_result"
    }
   ],
   "source": [
    "last_years_data.shape"
   ]
  },
  {
   "cell_type": "code",
   "execution_count": null,
   "id": "8cace4af-aeea-456f-8d43-6f4d0692750c",
   "metadata": {},
   "outputs": [],
   "source": []
  },
  {
   "cell_type": "code",
   "execution_count": 32,
   "id": "e94a9764-a07b-4b7f-ad99-3b19ec6c59b7",
   "metadata": {},
   "outputs": [],
   "source": [
    "predictions = []\n",
    "with torch.no_grad():\n",
    "    for i in range(len(test_df2)):\n",
    "        if i == 0:\n",
    "            inpt = torch.Tensor(last_years_data.reshape(seq_length,-1)).unsqueeze(dim=0)\n",
    "            # print(inpt.shape, i)\n",
    "        elif i < seq_length:\n",
    "            inpt1 = torch.Tensor(last_years_data[-seq_length+i:])\n",
    "            inpt2 = torch.Tensor(data_test[:i])\n",
    "            inpt3 = torch.cat(predictions[:i], dim=0).unsqueeze(dim=2)\n",
    "            inpt4 = torch.cat([inpt2,inpt3], dim=2)\n",
    "            \n",
    "            inpt = torch.cat([inpt1,inpt4],dim=0).reshape(seq_length,-1).unsqueeze(dim=0)\n",
    "            # print(inpt.shape, i)\n",
    "        else:\n",
    "            inpt2 = torch.Tensor(data_test[i-seq_length:i])\n",
    "            inpt3 = torch.cat(predictions[i-seq_length:i], dim=0).unsqueeze(dim=2)\n",
    "            inpt = torch.cat([inpt2,inpt3], dim=2).reshape(seq_length,-1).unsqueeze(dim=0)\n",
    "            # print(inpt.shape, i)\n",
    "        \n",
    "        \n",
    "        out = model(inpt)\n",
    "        predictions.append(out)"
   ]
  },
  {
   "cell_type": "code",
   "execution_count": 33,
   "id": "37ece192-e5f7-4384-8c21-a1fff050fd91",
   "metadata": {},
   "outputs": [],
   "source": [
    "final_preds = [pred.squeeze().tolist() for pred in predictions]"
   ]
  },
  {
   "cell_type": "code",
   "execution_count": 34,
   "id": "cba6d6fc-3620-4ec7-a521-58d50876158d",
   "metadata": {},
   "outputs": [],
   "source": [
    "grp_df_test['num_sold'] = final_preds"
   ]
  },
  {
   "cell_type": "code",
   "execution_count": 35,
   "id": "a4b0386a-1af1-4da3-91c4-2a89a974cb71",
   "metadata": {},
   "outputs": [],
   "source": [
    "grp_df_test = grp_df_test[['date','country','store','product','num_sold']]"
   ]
  },
  {
   "cell_type": "code",
   "execution_count": 36,
   "id": "f6a6caa0-0984-4b04-88e2-75d023bc4c78",
   "metadata": {},
   "outputs": [],
   "source": [
    "test_results = grp_df_test.explode(['country','store','product','num_sold'])"
   ]
  },
  {
   "cell_type": "code",
   "execution_count": 37,
   "id": "4655096f-85d3-464c-ad71-b59da3b21689",
   "metadata": {},
   "outputs": [
    {
     "data": {
      "text/html": [
       "<div>\n",
       "<style scoped>\n",
       "    .dataframe tbody tr th:only-of-type {\n",
       "        vertical-align: middle;\n",
       "    }\n",
       "\n",
       "    .dataframe tbody tr th {\n",
       "        vertical-align: top;\n",
       "    }\n",
       "\n",
       "    .dataframe thead th {\n",
       "        text-align: right;\n",
       "    }\n",
       "</style>\n",
       "<table border=\"1\" class=\"dataframe\">\n",
       "  <thead>\n",
       "    <tr style=\"text-align: right;\">\n",
       "      <th></th>\n",
       "      <th>date</th>\n",
       "      <th>country</th>\n",
       "      <th>store</th>\n",
       "      <th>product</th>\n",
       "      <th>num_sold</th>\n",
       "    </tr>\n",
       "  </thead>\n",
       "  <tbody>\n",
       "    <tr>\n",
       "      <th>0</th>\n",
       "      <td>2019-01-01</td>\n",
       "      <td>0</td>\n",
       "      <td>0</td>\n",
       "      <td>1</td>\n",
       "      <td>0.550932</td>\n",
       "    </tr>\n",
       "    <tr>\n",
       "      <th>0</th>\n",
       "      <td>2019-01-01</td>\n",
       "      <td>0</td>\n",
       "      <td>0</td>\n",
       "      <td>0</td>\n",
       "      <td>0.984858</td>\n",
       "    </tr>\n",
       "    <tr>\n",
       "      <th>0</th>\n",
       "      <td>2019-01-01</td>\n",
       "      <td>0</td>\n",
       "      <td>0</td>\n",
       "      <td>2</td>\n",
       "      <td>-0.265351</td>\n",
       "    </tr>\n",
       "    <tr>\n",
       "      <th>0</th>\n",
       "      <td>2019-01-01</td>\n",
       "      <td>0</td>\n",
       "      <td>1</td>\n",
       "      <td>1</td>\n",
       "      <td>1.117378</td>\n",
       "    </tr>\n",
       "    <tr>\n",
       "      <th>0</th>\n",
       "      <td>2019-01-01</td>\n",
       "      <td>0</td>\n",
       "      <td>1</td>\n",
       "      <td>0</td>\n",
       "      <td>1.554794</td>\n",
       "    </tr>\n",
       "    <tr>\n",
       "      <th>...</th>\n",
       "      <td>...</td>\n",
       "      <td>...</td>\n",
       "      <td>...</td>\n",
       "      <td>...</td>\n",
       "      <td>...</td>\n",
       "    </tr>\n",
       "    <tr>\n",
       "      <th>364</th>\n",
       "      <td>2019-12-31</td>\n",
       "      <td>2</td>\n",
       "      <td>0</td>\n",
       "      <td>0</td>\n",
       "      <td>0.398305</td>\n",
       "    </tr>\n",
       "    <tr>\n",
       "      <th>364</th>\n",
       "      <td>2019-12-31</td>\n",
       "      <td>2</td>\n",
       "      <td>0</td>\n",
       "      <td>2</td>\n",
       "      <td>-0.868827</td>\n",
       "    </tr>\n",
       "    <tr>\n",
       "      <th>364</th>\n",
       "      <td>2019-12-31</td>\n",
       "      <td>2</td>\n",
       "      <td>1</td>\n",
       "      <td>1</td>\n",
       "      <td>0.52475</td>\n",
       "    </tr>\n",
       "    <tr>\n",
       "      <th>364</th>\n",
       "      <td>2019-12-31</td>\n",
       "      <td>2</td>\n",
       "      <td>1</td>\n",
       "      <td>0</td>\n",
       "      <td>0.945948</td>\n",
       "    </tr>\n",
       "    <tr>\n",
       "      <th>364</th>\n",
       "      <td>2019-12-31</td>\n",
       "      <td>2</td>\n",
       "      <td>1</td>\n",
       "      <td>2</td>\n",
       "      <td>-0.30583</td>\n",
       "    </tr>\n",
       "  </tbody>\n",
       "</table>\n",
       "<p>6570 rows × 5 columns</p>\n",
       "</div>"
      ],
      "text/plain": [
       "          date country store product  num_sold\n",
       "0   2019-01-01       0     0       1  0.550932\n",
       "0   2019-01-01       0     0       0  0.984858\n",
       "0   2019-01-01       0     0       2 -0.265351\n",
       "0   2019-01-01       0     1       1  1.117378\n",
       "0   2019-01-01       0     1       0  1.554794\n",
       "..         ...     ...   ...     ...       ...\n",
       "364 2019-12-31       2     0       0  0.398305\n",
       "364 2019-12-31       2     0       2 -0.868827\n",
       "364 2019-12-31       2     1       1   0.52475\n",
       "364 2019-12-31       2     1       0  0.945948\n",
       "364 2019-12-31       2     1       2  -0.30583\n",
       "\n",
       "[6570 rows x 5 columns]"
      ]
     },
     "execution_count": 37,
     "metadata": {},
     "output_type": "execute_result"
    }
   ],
   "source": [
    "test_results"
   ]
  },
  {
   "cell_type": "code",
   "execution_count": 38,
   "id": "1ca25aab-fb88-4c3d-a62e-1d01648c84a9",
   "metadata": {},
   "outputs": [],
   "source": [
    "for feature in ['country', 'product', 'store']:\n",
    "    test_results[feature] = le_dict[feature].inverse_transform(test_results[feature].values.tolist())"
   ]
  },
  {
   "cell_type": "code",
   "execution_count": 39,
   "id": "5d30ee07-46df-439b-ab5f-7c0f6d99d218",
   "metadata": {},
   "outputs": [],
   "source": [
    "test_results['gdp'] = test_results.apply(get_gdp, axis=1)"
   ]
  },
  {
   "cell_type": "code",
   "execution_count": 40,
   "id": "58c8f1b9-878d-40e4-a88c-3652a5047296",
   "metadata": {},
   "outputs": [],
   "source": [
    "test_results['num_sold'] = test_results.apply(lambda x: np.exp(x.num_sold)* x.gdp, axis=1)"
   ]
  },
  {
   "cell_type": "code",
   "execution_count": 41,
   "id": "4ae4c63c-ef21-4067-aa05-0485538b0a8b",
   "metadata": {},
   "outputs": [],
   "source": [
    "test_results = test_results.drop(columns = 'gdp')"
   ]
  },
  {
   "cell_type": "code",
   "execution_count": 42,
   "id": "c19906c2-e520-4037-be2a-ca8b746c2063",
   "metadata": {},
   "outputs": [],
   "source": [
    "test_results = original_test_df.merge(test_results, on = ['date','country','store','product'])"
   ]
  },
  {
   "cell_type": "code",
   "execution_count": 43,
   "id": "1311bf50-b454-4e25-ae52-33edad1df407",
   "metadata": {},
   "outputs": [],
   "source": [
    "test_results[['row_id', 'num_sold']].to_csv('submission_'+config['best_model_name']+'.csv',index=False)"
   ]
  },
  {
   "cell_type": "code",
   "execution_count": null,
   "id": "2a090b52-6ab0-4b3d-adf7-3bf09447297e",
   "metadata": {},
   "outputs": [],
   "source": []
  }
 ],
 "metadata": {
  "kernelspec": {
   "display_name": "Python 3 (ipykernel)",
   "language": "python",
   "name": "python3"
  },
  "language_info": {
   "codemirror_mode": {
    "name": "ipython",
    "version": 3
   },
   "file_extension": ".py",
   "mimetype": "text/x-python",
   "name": "python",
   "nbconvert_exporter": "python",
   "pygments_lexer": "ipython3",
   "version": "3.8.10"
  }
 },
 "nbformat": 4,
 "nbformat_minor": 5
}
